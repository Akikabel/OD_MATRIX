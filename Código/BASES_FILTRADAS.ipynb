{
 "cells": [
  {
   "cell_type": "markdown",
   "id": "8a8b731c",
   "metadata": {
    "jp-MarkdownHeadingCollapsed": true
   },
   "source": [
    "## Base de Datos Original"
   ]
  },
  {
   "cell_type": "code",
   "execution_count": 5,
   "id": "7601a404",
   "metadata": {},
   "outputs": [],
   "source": [
    "import pandas as pd"
   ]
  },
  {
   "cell_type": "markdown",
   "id": "91142d24",
   "metadata": {},
   "source": [
    "La base de datos sobre la que partira el estudio sera aquella en la que las paradas tanto de transacciones como de la base de paradas coincidan."
   ]
  },
  {
   "cell_type": "code",
   "execution_count": 6,
   "id": "955e54d6",
   "metadata": {},
   "outputs": [],
   "source": [
    "smart_data = pd.read_csv('smart_data_filtrado_paradas_coincidentes.csv', sep = ',')\n",
    "smart_data[\"FechaHoraValidacion\"] = pd.to_datetime(smart_data[\"FechaHoraValidacion\"])"
   ]
  },
  {
   "cell_type": "markdown",
   "id": "15fc8c7c-3a30-433e-8325-c5be986cd81c",
   "metadata": {
    "jp-MarkdownHeadingCollapsed": true
   },
   "source": [
    "## Particiones y Estadisticas"
   ]
  },
  {
   "cell_type": "markdown",
   "id": "69bb1e46",
   "metadata": {},
   "source": [
    "Observamos la cantidad de registros que existen por numero de transacciones diarias."
   ]
  },
  {
   "cell_type": "code",
   "execution_count": 8,
   "id": "8ac06d2b",
   "metadata": {},
   "outputs": [
    {
     "name": "stdout",
     "output_type": "stream",
     "text": [
      "Total de transacciones de usuarios con 5 viajes diarios: 629035\n"
     ]
    }
   ],
   "source": [
    "# Contar la cantidad de registros por Fecha y CodigoTarjeta\n",
    "conteo = smart_data.groupby(['Fecha', 'CodigoTarjeta']).size().reset_index(name='Cantidad')\n",
    "\n",
    "# Filtrar los que tienen 3 transacciones diarias\n",
    "validos = conteo[conteo['Cantidad'] == 5 ]\n",
    "\n",
    "# Hacer merge para conservar solo esos registros en el DataFrame original\n",
    "smart_data_de_3 = smart_data.merge(validos[['Fecha', 'CodigoTarjeta']], on=['Fecha', 'CodigoTarjeta'], how='inner')\n",
    "\n",
    "# Contar la cantidad total de transacciones aportadas por estos usuarios\n",
    "total_transacciones = len(smart_data_de_3)\n",
    "\n",
    "print(f'Total de transacciones de usuarios con 5 viajes diarios: {total_transacciones}')\n"
   ]
  },
  {
   "cell_type": "code",
   "execution_count": null,
   "id": "a9999a96",
   "metadata": {},
   "outputs": [],
   "source": []
  },
  {
   "cell_type": "code",
   "execution_count": 20,
   "id": "5628f027-d60d-4534-b48b-62c73ff172a8",
   "metadata": {},
   "outputs": [],
   "source": [
    "import pandas as pd\n",
    "\n",
    "# Asegurar tipo datetime\n",
    "smart_data['FechaHoraValidacion'] = pd.to_datetime(smart_data['FechaHoraValidacion'])\n",
    "\n",
    "# Contar transacciones por Fecha y CodigoTarjeta\n",
    "conteo = smart_data.groupby(['Fecha', 'CodigoTarjeta']).size().reset_index(name='Cantidad')\n",
    "\n",
    "# Filtrar los que tienen exactamente 2\n",
    "exactos_dos = conteo[conteo['Cantidad'] == 2]\n",
    "\n",
    "# Filtrar el DataFrame original\n",
    "data_dos = smart_data.merge(exactos_dos[['Fecha', 'CodigoTarjeta']], on=['Fecha', 'CodigoTarjeta'], how='inner')\n",
    "\n",
    "# Ordenar por tarjeta, fecha y hora\n",
    "data_dos = data_dos.sort_values(by=['CodigoTarjeta', 'Fecha', 'FechaHoraValidacion'])\n",
    "\n",
    "# Agregar índice para numerar los registros (0 para primero, 1 para segundo)\n",
    "data_dos['pos'] = data_dos.groupby(['Fecha', 'CodigoTarjeta']).cumcount()\n",
    "\n",
    "# Separar los dos registros\n",
    "primero = data_dos[data_dos['pos'] == 0].copy()\n",
    "segundo = data_dos[data_dos['pos'] == 1].copy()\n",
    "\n",
    "# Calcular diferencia de tiempo\n",
    "tiempo_dif = segundo['FechaHoraValidacion'].values - primero['FechaHoraValidacion'].values\n",
    "\n",
    "# Seleccionar solo los pares con más de 2 horas de diferencia\n",
    "mask_valida = tiempo_dif < pd.Timedelta(hours=2)\n",
    "\n",
    "# Combinar ambos registros válidos en un solo DataFrame\n",
    "resultado = pd.concat([\n",
    "    primero[mask_valida],\n",
    "    segundo[mask_valida]\n",
    "])\n",
    "\n",
    "# Ordenar resultado final\n",
    "resultado = resultado.sort_values(by=['CodigoTarjeta', 'Fecha', 'FechaHoraValidacion'])"
   ]
  },
  {
   "cell_type": "code",
   "execution_count": 27,
   "id": "682dcb9a-40b3-41ec-a905-bf3f89c36d73",
   "metadata": {},
   "outputs": [],
   "source": [
    "resultado.to_csv('NO_DETERMINADOS/smart_dos_transacciones_menos2_horas.csv', index = False)"
   ]
  },
  {
   "cell_type": "markdown",
   "id": "4ecfea2a",
   "metadata": {
    "jp-MarkdownHeadingCollapsed": true
   },
   "source": [
    "## Usuarios con 1 Solo Registro y Promedio Semanal de 1 "
   ]
  },
  {
   "cell_type": "markdown",
   "id": "c2cb5890",
   "metadata": {},
   "source": [
    "Filtramos a los usuarios con una sola transaccion al dia para inferir despues."
   ]
  },
  {
   "cell_type": "code",
   "execution_count": 19,
   "id": "d8281cc5",
   "metadata": {},
   "outputs": [],
   "source": [
    "# Contar la cantidad de registros por Fecha y CodigoTarjeta\n",
    "conteo = smart_data.groupby(['Fecha', 'CodigoTarjeta']).size().reset_index(name='Cantidad')\n",
    "# Filtrar solo los que tienen 1 registro\n",
    "validos = conteo[conteo['Cantidad'] == 1]\n",
    "# Hacer merge para conservar solo esos registros en el DataFrame original\n",
    "smart_data_filtrado = smart_data.merge(validos[['Fecha', 'CodigoTarjeta']], on=['Fecha', 'CodigoTarjeta'], how='inner')"
   ]
  },
  {
   "cell_type": "code",
   "execution_count": 20,
   "id": "b26281fe",
   "metadata": {},
   "outputs": [],
   "source": [
    "smart_data_filtrado.to_csv('NO_DETERMINADOS/smart_una_transaccion_dia.csv', index = False)"
   ]
  },
  {
   "cell_type": "markdown",
   "id": "ea14e7e6",
   "metadata": {},
   "source": [
    "Seleccionamos a los usuarios con almenos 2 transacciones por dia y menos de 6 para realizar la inferencia."
   ]
  },
  {
   "cell_type": "code",
   "execution_count": 21,
   "id": "75c436ef",
   "metadata": {},
   "outputs": [],
   "source": [
    "# Contar la cantidad de registros por Fecha y CodigoTarjeta\n",
    "conteo = smart_data.groupby(['Fecha', 'CodigoTarjeta']).size().reset_index(name='Cantidad')\n",
    "\n",
    "# Filtrar solo los que tienen entre 2 y 6 transacciones (inclusive)\n",
    "validos = conteo[(conteo['Cantidad'] >= 2) & (conteo['Cantidad'] <= 6)]\n",
    "\n",
    "# Hacer merge para conservar solo esos registros en el DataFrame original\n",
    "smart_data_filtrado = smart_data.merge(validos[['Fecha', 'CodigoTarjeta']], on=['Fecha', 'CodigoTarjeta'], how='inner')\n"
   ]
  },
  {
   "cell_type": "code",
   "execution_count": 17,
   "id": "6265cbe1",
   "metadata": {},
   "outputs": [],
   "source": [
    "smart_data_filtrado.to_csv('DETERMINADOS/smart_dos_a_seis_transacciones.csv', index = False)"
   ]
  },
  {
   "cell_type": "markdown",
   "id": "cb319db8",
   "metadata": {},
   "source": [
    "Filtramos a los usuarios con un solo dia de registro por semana."
   ]
  },
  {
   "cell_type": "code",
   "execution_count": 12,
   "id": "76d6e689",
   "metadata": {},
   "outputs": [],
   "source": [
    "smart_data['Fecha'] = smart_data['FechaHoraValidacion'].dt.date\n",
    "smart_data['Semana'] = smart_data['FechaHoraValidacion'].dt.isocalendar().week\n",
    "transacciones = smart_data.groupby(['CodigoTarjeta', 'Semana', 'Fecha']).size().reset_index(name='TransaccionesDia')\n",
    "semana_usuario = transacciones.groupby(['CodigoTarjeta', 'Semana']).agg(\n",
    "    DiasActivosSemana=('Fecha', 'nunique'),\n",
    "    PromedioPorDiaSemana=('TransaccionesDia', 'sum')\n",
    ").reset_index()\n",
    "resumen_mensual = semana_usuario.groupby('CodigoTarjeta').agg(\n",
    "    PromedioDiasActivos=('DiasActivosSemana', 'mean'),\n",
    "    TotalTransaccionesMes=('PromedioPorDiaSemana', 'sum')\n",
    ").reset_index()"
   ]
  },
  {
   "cell_type": "markdown",
   "id": "6a81515e-ac2b-4460-80ca-f872288fcff1",
   "metadata": {},
   "source": [
    "## Filtrado Regulares e Irregulares"
   ]
  },
  {
   "cell_type": "code",
   "execution_count": 1,
   "id": "3a01977e-b15b-4e23-b53d-35051efa726d",
   "metadata": {},
   "outputs": [],
   "source": [
    "import pandas as pd\n",
    "import ast\n",
    "import numpy as np\n",
    "import matplotlib.pyplot as plt"
   ]
  },
  {
   "cell_type": "code",
   "execution_count": 2,
   "id": "18a7fa58-0ab7-425e-be6d-ff5d0890d2fe",
   "metadata": {},
   "outputs": [],
   "source": [
    "#------------------------BASE DE DATOS CON LOS REGISTROS INFERIDOS---------------------------------------\n",
    "smart_inferidos = pd.read_csv('base_total_DL.csv', sep = ',')\n",
    "smart_inferidos = smart_inferidos.drop(columns=['ParadaRegreso', 'FechaHoraRegreso'])\n",
    "smart_inferidos = smart_inferidos.rename(columns={'ParadaAscenso_Nombre': 'Origen'})\n",
    "# Obtener la lista de IDs únicos en la columna 'Origen'\n",
    "ids_origen = smart_inferidos['Origen'].unique()\n",
    "# Filtrar las filas donde 'Destino' está en la lista de 'Origen'\n",
    "smart_filtrado = smart_inferidos[smart_inferidos['Destino'].isin(ids_origen)]"
   ]
  },
  {
   "cell_type": "code",
   "execution_count": 3,
   "id": "2b1246e8-2185-413c-a751-6a65abbac2b9",
   "metadata": {},
   "outputs": [],
   "source": [
    "#------------------------BASES DE REGULARES E IRREGULARES-------------------------------------------------\n",
    "smart_regulares = pd.read_csv('smart_regulares.csv', sep = ',')\n",
    "smart_irregulares = pd.read_csv('smart_irregulares.csv', sep = ',')\n"
   ]
  },
  {
   "cell_type": "code",
   "execution_count": 4,
   "id": "aa4b5270-750c-486a-aa7c-9dae2d7e397a",
   "metadata": {},
   "outputs": [],
   "source": [
    "#Entrenar dos modelos tanto para regulares como irregulares\n",
    "smart_inferidos_regulares = smart_inferidos[smart_inferidos['CodigoTarjeta'].isin(smart_regulares['CodigoTarjeta'])]\n",
    "smart_inferidos_irregulares = smart_inferidos[smart_inferidos['CodigoTarjeta'].isin(smart_irregulares['CodigoTarjeta'])]"
   ]
  },
  {
   "cell_type": "code",
   "execution_count": 5,
   "id": "14c9b0f8-cded-4953-b69a-ff3349039cbf",
   "metadata": {},
   "outputs": [],
   "source": [
    "#------------------------BASES NO DETERMINADAS-----------------------------------------------------------\n",
    "smart_inferir = pd.read_csv('NO_DETERMINADOS/base_a_predecir_definitiva.csv', sep = ',')"
   ]
  },
  {
   "cell_type": "code",
   "execution_count": 6,
   "id": "ea7c963d-d379-4da3-be61-6e736abf68b0",
   "metadata": {},
   "outputs": [],
   "source": [
    "#Predecir con los modelos correspondientes tanto para regulares como irregulares\n",
    "smart_predecir_regulares = smart_inferir[smart_inferir['CodigoTarjeta'].isin(smart_regulares['CodigoTarjeta'])]\n",
    "smart_predecir_irregulares = smart_inferir[smart_inferir['CodigoTarjeta'].isin(smart_irregulares['CodigoTarjeta'])]"
   ]
  },
  {
   "cell_type": "code",
   "execution_count": 7,
   "id": "b7e395d5-6bc1-44b2-bc6e-d8ee8d0ae3e4",
   "metadata": {},
   "outputs": [],
   "source": [
    "#------------------------GUARDAMOS LAS BASES DE DATOS-----------------------\n",
    "smart_inferidos_regulares.to_csv(\"BASES_FINALES_DL/smart_inferidos_regulares.csv\", index = False)\n",
    "smart_inferidos_irregulares.to_csv(\"BASES_FINALES_DL/smart_inferidos_irregulares.csv\", index = False)\n",
    "smart_predecir_regulares.to_csv(\"BASES_FINALES_DL/smart_predecir_regulares.csv\", index = False)\n",
    "smart_predecir_irregulares.to_csv(\"BASES_FINALES_DL/smart_predecir_irregulares.csv\", index = False)"
   ]
  },
  {
   "cell_type": "code",
   "execution_count": null,
   "id": "302f59bf-05b5-4f6c-a2f6-f16f8651e5ae",
   "metadata": {},
   "outputs": [],
   "source": []
  }
 ],
 "metadata": {
  "kernelspec": {
   "display_name": "Python 3 (ipykernel)",
   "language": "python",
   "name": "python3"
  },
  "language_info": {
   "codemirror_mode": {
    "name": "ipython",
    "version": 3
   },
   "file_extension": ".py",
   "mimetype": "text/x-python",
   "name": "python",
   "nbconvert_exporter": "python",
   "pygments_lexer": "ipython3",
   "version": "3.11.5"
  }
 },
 "nbformat": 4,
 "nbformat_minor": 5
}
