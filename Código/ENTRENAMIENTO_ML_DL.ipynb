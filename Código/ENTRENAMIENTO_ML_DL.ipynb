{
 "cells": [
  {
   "cell_type": "markdown",
   "id": "79d231fb",
   "metadata": {},
   "source": [
    "# Carga de Bases Inferidas"
   ]
  },
  {
   "cell_type": "code",
   "execution_count": 2,
   "id": "89a6ef4d",
   "metadata": {},
   "outputs": [],
   "source": [
    "import pandas as pd\n",
    "import matplotlib.pyplot as plt\n",
    "import geopandas as gpd\n"
   ]
  },
  {
   "cell_type": "code",
   "execution_count": 3,
   "id": "04a8c45a-47fd-44c7-add3-a87081b53167",
   "metadata": {},
   "outputs": [],
   "source": [
    "smart_inferidos = pd.read_csv('base_entrenamiento.csv', delimiter= ',')"
   ]
  },
  {
   "cell_type": "code",
   "execution_count": 4,
   "id": "2413a610-9fad-427c-8a79-074f409601ab",
   "metadata": {},
   "outputs": [
    {
     "data": {
      "text/plain": [
       "4096508"
      ]
     },
     "execution_count": 4,
     "metadata": {},
     "output_type": "execute_result"
    }
   ],
   "source": [
    "len(smart_inferidos)"
   ]
  },
  {
   "cell_type": "code",
   "execution_count": 3,
   "id": "5f8594a0-1c94-4fa7-ab8a-af5ca9cc91b7",
   "metadata": {},
   "outputs": [],
   "source": [
    "stops = pd.read_csv('POI_DATA/paradas_enriquecidas.csv', sep = ',')\n",
    "stops = stops.drop(columns=['LINEA', 'COMPA???', 'SENTIDO', 'SECUENCIA', 'PARADA', 'ID-PROX PA', 'PARADA2'])"
   ]
  },
  {
   "cell_type": "code",
   "execution_count": 4,
   "id": "f778f516-7e81-4c95-8b6e-1549b125409c",
   "metadata": {},
   "outputs": [],
   "source": [
    "recuento =  pd.read_csv('POI_DATA/recuento_por_categoria.csv', sep = ',')"
   ]
  },
  {
   "cell_type": "code",
   "execution_count": 48,
   "id": "be0cd6f7",
   "metadata": {},
   "outputs": [],
   "source": [
    "stops_sin_duplicados = stops.drop_duplicates(subset=['ID-PARADA'], keep='first')\n"
   ]
  },
  {
   "cell_type": "markdown",
   "id": "0e6e56bc-af79-4156-a09b-29802b4a60f7",
   "metadata": {},
   "source": [
    "Se reagrupan las categorias de recuento para reducir la cantidad y disminuir la dispersion."
   ]
  },
  {
   "cell_type": "code",
   "execution_count": 5,
   "id": "26180364-9354-415e-b1b7-3f93b39f26f0",
   "metadata": {},
   "outputs": [
    {
     "name": "stdout",
     "output_type": "stream",
     "text": [
      "                             categoria_agrupada  cantidad\n",
      "0                             amenity_fast_food       262\n",
      "1          amenity_hospital_healthcare_hospital        49\n",
      "2   amenity_place_of_worship_religion_christian       169\n",
      "3                            amenity_restaurant       832\n",
      "4                                amenity_school       129\n",
      "5                                     education        50\n",
      "6                                    food_drink       315\n",
      "7                            landuse_industrial         7\n",
      "8                           landuse_residential        37\n",
      "9                                public_utility       188\n",
      "10                                   recreation        38\n",
      "11                                tourism_hotel       136\n"
     ]
    }
   ],
   "source": [
    "# Definir las agrupaciones\n",
    "agrupaciones = {\n",
    "    'recreation': ['leisure_swimming_pool', 'amenity_cinema', 'leisure_park', 'shop_mall'],\n",
    "    'public_utility': ['amenity_bench', 'amenity_atm'],\n",
    "    'food_drink': ['amenity_cafe', 'amenity_bar'],\n",
    "    'education': ['amenity_college', 'amenity_university']\n",
    "}\n",
    "\n",
    "# Crear una nueva columna 'categoria_agrupada' basada en las agrupaciones\n",
    "def asignar_categoria(layer):\n",
    "    for categoria, valores in agrupaciones.items():\n",
    "        if layer in valores:\n",
    "            return categoria\n",
    "    return layer  # Si no está en ninguna agrupación, conserva su valor original\n",
    "\n",
    "# Aplicar la función al DataFrame\n",
    "recuento['categoria_agrupada'] = recuento['layer'].apply(asignar_categoria)\n",
    "\n",
    "# Agrupar por la nueva categoría y sumar las cantidades\n",
    "df_agrupado = recuento.groupby('categoria_agrupada', as_index=False)['cantidad'].sum()\n"
   ]
  },
  {
   "cell_type": "markdown",
   "id": "6ded42f2",
   "metadata": {},
   "source": [
    "df_agrupado contiene el conteo de los POIs en Cuenca"
   ]
  },
  {
   "cell_type": "code",
   "execution_count": null,
   "id": "b8f6ff53-aa84-43e4-8a4f-5b4673eced09",
   "metadata": {},
   "outputs": [],
   "source": [
    "agrupaciones = {\n",
    "    'recreation': ['leisure_swimming_pool', 'amenity_cinema', 'leisure_park', 'shop_mall'],\n",
    "    'public_utility': ['amenity_bench', 'amenity_atm'],\n",
    "    'food_drink': ['amenity_cafe', 'amenity_bar'],\n",
    "    'education': ['amenity_college', 'amenity_university']\n",
    "}"
   ]
  },
  {
   "cell_type": "code",
   "execution_count": 8,
   "id": "527078d4-db94-43ef-8084-6052dd9b790d",
   "metadata": {},
   "outputs": [],
   "source": [
    "# Sumar las columnas de cada grupo y crear nuevas columnas\n",
    "for nueva_categoria, columnas in agrupaciones.items():\n",
    "    # Verificar qué columnas existen en el DataFrame (por si alguna no está presente)\n",
    "    columnas_existentes = [col for col in columnas if col in stops.columns]\n",
    "    if columnas_existentes:  # Si hay al menos una columna válida\n",
    "        stops[nueva_categoria] = stops[columnas_existentes].sum(axis=1)\n",
    "\n",
    "# Opcional: Eliminar las columnas originales agrupadas (si ya no las necesitas)\n",
    "columnas_a_eliminar = [col for grupo in agrupaciones.values() for col in grupo if col in stops.columns]\n",
    "stops = stops.drop(columns=columnas_a_eliminar)"
   ]
  },
  {
   "cell_type": "code",
   "execution_count": 13,
   "id": "7780a944",
   "metadata": {},
   "outputs": [
    {
     "data": {
      "text/html": [
       "<div>\n",
       "<style scoped>\n",
       "    .dataframe tbody tr th:only-of-type {\n",
       "        vertical-align: middle;\n",
       "    }\n",
       "\n",
       "    .dataframe tbody tr th {\n",
       "        vertical-align: top;\n",
       "    }\n",
       "\n",
       "    .dataframe thead th {\n",
       "        text-align: right;\n",
       "    }\n",
       "</style>\n",
       "<table border=\"1\" class=\"dataframe\">\n",
       "  <thead>\n",
       "    <tr style=\"text-align: right;\">\n",
       "      <th></th>\n",
       "      <th>categoria_agrupada</th>\n",
       "      <th>cantidad</th>\n",
       "    </tr>\n",
       "  </thead>\n",
       "  <tbody>\n",
       "    <tr>\n",
       "      <th>0</th>\n",
       "      <td>amenity_fast_food</td>\n",
       "      <td>262</td>\n",
       "    </tr>\n",
       "    <tr>\n",
       "      <th>1</th>\n",
       "      <td>amenity_hospital_healthcare_hospital</td>\n",
       "      <td>49</td>\n",
       "    </tr>\n",
       "    <tr>\n",
       "      <th>2</th>\n",
       "      <td>amenity_place_of_worship_religion_christian</td>\n",
       "      <td>169</td>\n",
       "    </tr>\n",
       "    <tr>\n",
       "      <th>3</th>\n",
       "      <td>amenity_restaurant</td>\n",
       "      <td>832</td>\n",
       "    </tr>\n",
       "    <tr>\n",
       "      <th>4</th>\n",
       "      <td>amenity_school</td>\n",
       "      <td>129</td>\n",
       "    </tr>\n",
       "    <tr>\n",
       "      <th>5</th>\n",
       "      <td>education</td>\n",
       "      <td>50</td>\n",
       "    </tr>\n",
       "    <tr>\n",
       "      <th>6</th>\n",
       "      <td>food_drink</td>\n",
       "      <td>315</td>\n",
       "    </tr>\n",
       "    <tr>\n",
       "      <th>7</th>\n",
       "      <td>landuse_industrial</td>\n",
       "      <td>7</td>\n",
       "    </tr>\n",
       "    <tr>\n",
       "      <th>8</th>\n",
       "      <td>landuse_residential</td>\n",
       "      <td>37</td>\n",
       "    </tr>\n",
       "    <tr>\n",
       "      <th>9</th>\n",
       "      <td>public_utility</td>\n",
       "      <td>188</td>\n",
       "    </tr>\n",
       "    <tr>\n",
       "      <th>10</th>\n",
       "      <td>recreation</td>\n",
       "      <td>38</td>\n",
       "    </tr>\n",
       "    <tr>\n",
       "      <th>11</th>\n",
       "      <td>tourism_hotel</td>\n",
       "      <td>136</td>\n",
       "    </tr>\n",
       "  </tbody>\n",
       "</table>\n",
       "</div>"
      ],
      "text/plain": [
       "                             categoria_agrupada  cantidad\n",
       "0                             amenity_fast_food       262\n",
       "1          amenity_hospital_healthcare_hospital        49\n",
       "2   amenity_place_of_worship_religion_christian       169\n",
       "3                            amenity_restaurant       832\n",
       "4                                amenity_school       129\n",
       "5                                     education        50\n",
       "6                                    food_drink       315\n",
       "7                            landuse_industrial         7\n",
       "8                           landuse_residential        37\n",
       "9                                public_utility       188\n",
       "10                                   recreation        38\n",
       "11                                tourism_hotel       136"
      ]
     },
     "execution_count": 13,
     "metadata": {},
     "output_type": "execute_result"
    }
   ],
   "source": [
    "df_agrupado"
   ]
  },
  {
   "cell_type": "code",
   "execution_count": 23,
   "id": "070a95fe",
   "metadata": {},
   "outputs": [],
   "source": [
    "# 1. Definir las columnas a normalizar (las que mencionaste)\n",
    "columnas_a_normalizar = [\n",
    "    'amenity_fast_food',\n",
    "    'amenity_hospital_healthcare_hospital',\n",
    "    'amenity_place_of_worship_religion_christian',\n",
    "    'amenity_restaurant',\n",
    "    'amenity_school',\n",
    "    'landuse_industrial',\n",
    "    'landuse_residential',\n",
    "    'tourism_hotel',\n",
    "    'recreation',\n",
    "    'public_utility',\n",
    "    'food_drink',\n",
    "    'education',\n",
    "    'leisure_swimming_pool',\n",
    "    'amenity_cinema',\n",
    "    'amenity_bench'\n",
    "]\n",
    "\n",
    "# 2. Verificar qué columnas existen en 'stops' (evitar errores)\n",
    "columnas_existentes = [col for col in columnas_a_normalizar if col in stops.columns]\n",
    "\n",
    "# 3. Extraer los totales desde 'df_agrupado' (asumiendo estructura: categoria | total)\n",
    "totales = df_agrupado.set_index('categoria_agrupada')['cantidad'].to_dict()\n",
    "\n",
    "# 4. Normalizar las columnas en 'stops'\n",
    "for columna in columnas_existentes:\n",
    "    if columna in totales and totales[columna] != 0:  # Evitar división por cero\n",
    "        stops[columna] = stops[columna] / totales[columna]\n",
    "    else:\n",
    "        stops[columna] = 0  # o np.nan si prefieres"
   ]
  },
  {
   "cell_type": "code",
   "execution_count": 31,
   "id": "feed5cb3",
   "metadata": {},
   "outputs": [],
   "source": [
    "stops = stops.rename(columns={'full_id': 'CodigoZona'})\n"
   ]
  },
  {
   "cell_type": "code",
   "execution_count": 63,
   "id": "493eb2a9",
   "metadata": {},
   "outputs": [],
   "source": [
    "columnas_a_transferir = [\n",
    "    'total_pois',\n",
    "    'amenity_fast_food',\n",
    "    'amenity_hospital_healthcare_hospital',\n",
    "    'amenity_place_of_worship_religion_christian',\n",
    "    'amenity_restaurant',\n",
    "    'amenity_school',\n",
    "    'landuse_industrial',\n",
    "    'landuse_residential',\n",
    "    'tourism_hotel',\n",
    "    'recreation',\n",
    "    'public_utility',\n",
    "    'food_drink',\n",
    "    'education',\n",
    "    'leisure_swimming_pool',\n",
    "    'amenity_cinema',\n",
    "    'amenity_bench',\n",
    "    'CodigoZona'\n",
    "]"
   ]
  },
  {
   "cell_type": "code",
   "execution_count": 64,
   "id": "18c4c4e8",
   "metadata": {},
   "outputs": [],
   "source": [
    "smart_inferidos = smart_inferidos.merge(\n",
    "    stops_sin_duplicados[['ID-PARADA'] + columnas_a_transferir],\n",
    "    left_on='ParadaAscenso_Nombre',\n",
    "    right_on='ID-PARADA',\n",
    "    how='left'  # Mantiene todos los duplicados originales de smart_inferidos\n",
    ")"
   ]
  },
  {
   "cell_type": "code",
   "execution_count": 65,
   "id": "3f27ada4",
   "metadata": {},
   "outputs": [],
   "source": [
    "smart_inferidos = smart_inferidos.drop(columns=['ID-PARADA'])\n"
   ]
  },
  {
   "cell_type": "code",
   "execution_count": 66,
   "id": "cb91cb89",
   "metadata": {},
   "outputs": [],
   "source": [
    "smart_inferidos = smart_inferidos.rename(columns={'ParadaDescenso_Inferida': 'Destino'})"
   ]
  },
  {
   "cell_type": "code",
   "execution_count": 67,
   "id": "364ad639",
   "metadata": {},
   "outputs": [
    {
     "data": {
      "text/html": [
       "<div>\n",
       "<style scoped>\n",
       "    .dataframe tbody tr th:only-of-type {\n",
       "        vertical-align: middle;\n",
       "    }\n",
       "\n",
       "    .dataframe tbody tr th {\n",
       "        vertical-align: top;\n",
       "    }\n",
       "\n",
       "    .dataframe thead th {\n",
       "        text-align: right;\n",
       "    }\n",
       "</style>\n",
       "<table border=\"1\" class=\"dataframe\">\n",
       "  <thead>\n",
       "    <tr style=\"text-align: right;\">\n",
       "      <th></th>\n",
       "      <th>CodigoTarjeta</th>\n",
       "      <th>FechaHoraAscenso</th>\n",
       "      <th>ParadaAscenso_Nombre</th>\n",
       "      <th>LineaViaje</th>\n",
       "      <th>ParadaRegreso</th>\n",
       "      <th>FechaHoraRegreso</th>\n",
       "      <th>Destino</th>\n",
       "      <th>total_pois</th>\n",
       "      <th>amenity_fast_food</th>\n",
       "      <th>amenity_hospital_healthcare_hospital</th>\n",
       "      <th>...</th>\n",
       "      <th>landuse_residential</th>\n",
       "      <th>tourism_hotel</th>\n",
       "      <th>recreation</th>\n",
       "      <th>public_utility</th>\n",
       "      <th>food_drink</th>\n",
       "      <th>education</th>\n",
       "      <th>leisure_swimming_pool</th>\n",
       "      <th>amenity_cinema</th>\n",
       "      <th>amenity_bench</th>\n",
       "      <th>CodigoZona</th>\n",
       "    </tr>\n",
       "  </thead>\n",
       "  <tbody>\n",
       "    <tr>\n",
       "      <th>0</th>\n",
       "      <td>CURA0000320842</td>\n",
       "      <td>2023-10-20 15:25:41</td>\n",
       "      <td>2639</td>\n",
       "      <td>5002</td>\n",
       "      <td>1760</td>\n",
       "      <td>2023-10-20 18:34:18</td>\n",
       "      <td>1878</td>\n",
       "      <td>168</td>\n",
       "      <td>0.091603</td>\n",
       "      <td>0.000000</td>\n",
       "      <td>...</td>\n",
       "      <td>0.108108</td>\n",
       "      <td>0.036765</td>\n",
       "      <td>0.078947</td>\n",
       "      <td>0.122340</td>\n",
       "      <td>0.028571</td>\n",
       "      <td>0.14</td>\n",
       "      <td>0</td>\n",
       "      <td>0</td>\n",
       "      <td>0</td>\n",
       "      <td>r3845861</td>\n",
       "    </tr>\n",
       "    <tr>\n",
       "      <th>1</th>\n",
       "      <td>CURA0000357796</td>\n",
       "      <td>2023-10-02 07:31:38</td>\n",
       "      <td>3034</td>\n",
       "      <td>2002</td>\n",
       "      <td>2742</td>\n",
       "      <td>2023-10-02 17:24:32</td>\n",
       "      <td>2832</td>\n",
       "      <td>168</td>\n",
       "      <td>0.091603</td>\n",
       "      <td>0.000000</td>\n",
       "      <td>...</td>\n",
       "      <td>0.108108</td>\n",
       "      <td>0.036765</td>\n",
       "      <td>0.078947</td>\n",
       "      <td>0.122340</td>\n",
       "      <td>0.028571</td>\n",
       "      <td>0.14</td>\n",
       "      <td>0</td>\n",
       "      <td>0</td>\n",
       "      <td>0</td>\n",
       "      <td>r3845861</td>\n",
       "    </tr>\n",
       "    <tr>\n",
       "      <th>2</th>\n",
       "      <td>CURA0000435467</td>\n",
       "      <td>2023-10-15 12:03:54</td>\n",
       "      <td>2618</td>\n",
       "      <td>5001</td>\n",
       "      <td>3127</td>\n",
       "      <td>2023-10-15 14:09:16</td>\n",
       "      <td>3997</td>\n",
       "      <td>247</td>\n",
       "      <td>0.198473</td>\n",
       "      <td>0.020408</td>\n",
       "      <td>...</td>\n",
       "      <td>0.000000</td>\n",
       "      <td>0.051471</td>\n",
       "      <td>0.000000</td>\n",
       "      <td>0.058511</td>\n",
       "      <td>0.155556</td>\n",
       "      <td>0.26</td>\n",
       "      <td>0</td>\n",
       "      <td>0</td>\n",
       "      <td>0</td>\n",
       "      <td>r3845848</td>\n",
       "    </tr>\n",
       "    <tr>\n",
       "      <th>3</th>\n",
       "      <td>CURA0010000028</td>\n",
       "      <td>2023-10-11 14:19:39</td>\n",
       "      <td>1958</td>\n",
       "      <td>7001</td>\n",
       "      <td>1363</td>\n",
       "      <td>2023-10-11 18:38:39</td>\n",
       "      <td>1315</td>\n",
       "      <td>79</td>\n",
       "      <td>0.038168</td>\n",
       "      <td>0.102041</td>\n",
       "      <td>...</td>\n",
       "      <td>0.000000</td>\n",
       "      <td>0.102941</td>\n",
       "      <td>0.000000</td>\n",
       "      <td>0.047872</td>\n",
       "      <td>0.031746</td>\n",
       "      <td>0.00</td>\n",
       "      <td>0</td>\n",
       "      <td>0</td>\n",
       "      <td>0</td>\n",
       "      <td>r3845814</td>\n",
       "    </tr>\n",
       "    <tr>\n",
       "      <th>4</th>\n",
       "      <td>CURA0010000028</td>\n",
       "      <td>2023-10-13 09:02:59</td>\n",
       "      <td>1721</td>\n",
       "      <td>7001</td>\n",
       "      <td>1879</td>\n",
       "      <td>2023-10-13 18:45:21</td>\n",
       "      <td>1951</td>\n",
       "      <td>193</td>\n",
       "      <td>0.057252</td>\n",
       "      <td>0.040816</td>\n",
       "      <td>...</td>\n",
       "      <td>0.000000</td>\n",
       "      <td>0.235294</td>\n",
       "      <td>0.026316</td>\n",
       "      <td>0.063830</td>\n",
       "      <td>0.168254</td>\n",
       "      <td>0.04</td>\n",
       "      <td>0</td>\n",
       "      <td>0</td>\n",
       "      <td>0</td>\n",
       "      <td>r3845817</td>\n",
       "    </tr>\n",
       "    <tr>\n",
       "      <th>...</th>\n",
       "      <td>...</td>\n",
       "      <td>...</td>\n",
       "      <td>...</td>\n",
       "      <td>...</td>\n",
       "      <td>...</td>\n",
       "      <td>...</td>\n",
       "      <td>...</td>\n",
       "      <td>...</td>\n",
       "      <td>...</td>\n",
       "      <td>...</td>\n",
       "      <td>...</td>\n",
       "      <td>...</td>\n",
       "      <td>...</td>\n",
       "      <td>...</td>\n",
       "      <td>...</td>\n",
       "      <td>...</td>\n",
       "      <td>...</td>\n",
       "      <td>...</td>\n",
       "      <td>...</td>\n",
       "      <td>...</td>\n",
       "      <td>...</td>\n",
       "    </tr>\n",
       "    <tr>\n",
       "      <th>4096503</th>\n",
       "      <td>CURS0030329401</td>\n",
       "      <td>2023-10-28 12:58:51</td>\n",
       "      <td>721</td>\n",
       "      <td>9101</td>\n",
       "      <td>721</td>\n",
       "      <td>2023-10-28 12:58:45</td>\n",
       "      <td>712</td>\n",
       "      <td>214</td>\n",
       "      <td>0.099237</td>\n",
       "      <td>0.040816</td>\n",
       "      <td>...</td>\n",
       "      <td>0.297297</td>\n",
       "      <td>0.022059</td>\n",
       "      <td>0.078947</td>\n",
       "      <td>0.095745</td>\n",
       "      <td>0.101587</td>\n",
       "      <td>0.02</td>\n",
       "      <td>0</td>\n",
       "      <td>0</td>\n",
       "      <td>0</td>\n",
       "      <td>r3845828</td>\n",
       "    </tr>\n",
       "    <tr>\n",
       "      <th>4096504</th>\n",
       "      <td>CURS0030329401</td>\n",
       "      <td>2023-10-30 13:59:25</td>\n",
       "      <td>1790</td>\n",
       "      <td>6007</td>\n",
       "      <td>721</td>\n",
       "      <td>2023-10-30 09:43:46</td>\n",
       "      <td>712</td>\n",
       "      <td>80</td>\n",
       "      <td>0.041985</td>\n",
       "      <td>0.000000</td>\n",
       "      <td>...</td>\n",
       "      <td>0.000000</td>\n",
       "      <td>0.022059</td>\n",
       "      <td>0.026316</td>\n",
       "      <td>0.037234</td>\n",
       "      <td>0.012698</td>\n",
       "      <td>0.06</td>\n",
       "      <td>0</td>\n",
       "      <td>0</td>\n",
       "      <td>0</td>\n",
       "      <td>r3845764</td>\n",
       "    </tr>\n",
       "    <tr>\n",
       "      <th>4096505</th>\n",
       "      <td>CURS0300000004</td>\n",
       "      <td>2023-10-02 17:36:30</td>\n",
       "      <td>2317</td>\n",
       "      <td>1003</td>\n",
       "      <td>794</td>\n",
       "      <td>2023-10-02 15:00:36</td>\n",
       "      <td>830</td>\n",
       "      <td>193</td>\n",
       "      <td>0.057252</td>\n",
       "      <td>0.040816</td>\n",
       "      <td>...</td>\n",
       "      <td>0.000000</td>\n",
       "      <td>0.235294</td>\n",
       "      <td>0.026316</td>\n",
       "      <td>0.063830</td>\n",
       "      <td>0.168254</td>\n",
       "      <td>0.04</td>\n",
       "      <td>0</td>\n",
       "      <td>0</td>\n",
       "      <td>0</td>\n",
       "      <td>r3845817</td>\n",
       "    </tr>\n",
       "    <tr>\n",
       "      <th>4096506</th>\n",
       "      <td>CURS0300000004</td>\n",
       "      <td>2023-10-14 16:53:20</td>\n",
       "      <td>2353</td>\n",
       "      <td>1003</td>\n",
       "      <td>794</td>\n",
       "      <td>2023-10-14 12:02:28</td>\n",
       "      <td>830</td>\n",
       "      <td>331</td>\n",
       "      <td>0.099237</td>\n",
       "      <td>0.020408</td>\n",
       "      <td>...</td>\n",
       "      <td>0.000000</td>\n",
       "      <td>0.345588</td>\n",
       "      <td>0.184211</td>\n",
       "      <td>0.101064</td>\n",
       "      <td>0.238095</td>\n",
       "      <td>0.12</td>\n",
       "      <td>0</td>\n",
       "      <td>0</td>\n",
       "      <td>0</td>\n",
       "      <td>r3845816</td>\n",
       "    </tr>\n",
       "    <tr>\n",
       "      <th>4096507</th>\n",
       "      <td>CURS0300000004</td>\n",
       "      <td>2023-10-24 17:15:12</td>\n",
       "      <td>1794</td>\n",
       "      <td>9100</td>\n",
       "      <td>794</td>\n",
       "      <td>2023-10-24 13:56:18</td>\n",
       "      <td>856</td>\n",
       "      <td>331</td>\n",
       "      <td>0.099237</td>\n",
       "      <td>0.020408</td>\n",
       "      <td>...</td>\n",
       "      <td>0.000000</td>\n",
       "      <td>0.345588</td>\n",
       "      <td>0.184211</td>\n",
       "      <td>0.101064</td>\n",
       "      <td>0.238095</td>\n",
       "      <td>0.12</td>\n",
       "      <td>0</td>\n",
       "      <td>0</td>\n",
       "      <td>0</td>\n",
       "      <td>r3845816</td>\n",
       "    </tr>\n",
       "  </tbody>\n",
       "</table>\n",
       "<p>4096508 rows × 24 columns</p>\n",
       "</div>"
      ],
      "text/plain": [
       "          CodigoTarjeta     FechaHoraAscenso  ParadaAscenso_Nombre  \\\n",
       "0        CURA0000320842  2023-10-20 15:25:41                  2639   \n",
       "1        CURA0000357796  2023-10-02 07:31:38                  3034   \n",
       "2        CURA0000435467  2023-10-15 12:03:54                  2618   \n",
       "3        CURA0010000028  2023-10-11 14:19:39                  1958   \n",
       "4        CURA0010000028  2023-10-13 09:02:59                  1721   \n",
       "...                 ...                  ...                   ...   \n",
       "4096503  CURS0030329401  2023-10-28 12:58:51                   721   \n",
       "4096504  CURS0030329401  2023-10-30 13:59:25                  1790   \n",
       "4096505  CURS0300000004  2023-10-02 17:36:30                  2317   \n",
       "4096506  CURS0300000004  2023-10-14 16:53:20                  2353   \n",
       "4096507  CURS0300000004  2023-10-24 17:15:12                  1794   \n",
       "\n",
       "         LineaViaje  ParadaRegreso     FechaHoraRegreso  Destino  total_pois  \\\n",
       "0              5002           1760  2023-10-20 18:34:18     1878         168   \n",
       "1              2002           2742  2023-10-02 17:24:32     2832         168   \n",
       "2              5001           3127  2023-10-15 14:09:16     3997         247   \n",
       "3              7001           1363  2023-10-11 18:38:39     1315          79   \n",
       "4              7001           1879  2023-10-13 18:45:21     1951         193   \n",
       "...             ...            ...                  ...      ...         ...   \n",
       "4096503        9101            721  2023-10-28 12:58:45      712         214   \n",
       "4096504        6007            721  2023-10-30 09:43:46      712          80   \n",
       "4096505        1003            794  2023-10-02 15:00:36      830         193   \n",
       "4096506        1003            794  2023-10-14 12:02:28      830         331   \n",
       "4096507        9100            794  2023-10-24 13:56:18      856         331   \n",
       "\n",
       "         amenity_fast_food  amenity_hospital_healthcare_hospital  ...  \\\n",
       "0                 0.091603                              0.000000  ...   \n",
       "1                 0.091603                              0.000000  ...   \n",
       "2                 0.198473                              0.020408  ...   \n",
       "3                 0.038168                              0.102041  ...   \n",
       "4                 0.057252                              0.040816  ...   \n",
       "...                    ...                                   ...  ...   \n",
       "4096503           0.099237                              0.040816  ...   \n",
       "4096504           0.041985                              0.000000  ...   \n",
       "4096505           0.057252                              0.040816  ...   \n",
       "4096506           0.099237                              0.020408  ...   \n",
       "4096507           0.099237                              0.020408  ...   \n",
       "\n",
       "         landuse_residential  tourism_hotel  recreation  public_utility  \\\n",
       "0                   0.108108       0.036765    0.078947        0.122340   \n",
       "1                   0.108108       0.036765    0.078947        0.122340   \n",
       "2                   0.000000       0.051471    0.000000        0.058511   \n",
       "3                   0.000000       0.102941    0.000000        0.047872   \n",
       "4                   0.000000       0.235294    0.026316        0.063830   \n",
       "...                      ...            ...         ...             ...   \n",
       "4096503             0.297297       0.022059    0.078947        0.095745   \n",
       "4096504             0.000000       0.022059    0.026316        0.037234   \n",
       "4096505             0.000000       0.235294    0.026316        0.063830   \n",
       "4096506             0.000000       0.345588    0.184211        0.101064   \n",
       "4096507             0.000000       0.345588    0.184211        0.101064   \n",
       "\n",
       "         food_drink  education  leisure_swimming_pool  amenity_cinema  \\\n",
       "0          0.028571       0.14                      0               0   \n",
       "1          0.028571       0.14                      0               0   \n",
       "2          0.155556       0.26                      0               0   \n",
       "3          0.031746       0.00                      0               0   \n",
       "4          0.168254       0.04                      0               0   \n",
       "...             ...        ...                    ...             ...   \n",
       "4096503    0.101587       0.02                      0               0   \n",
       "4096504    0.012698       0.06                      0               0   \n",
       "4096505    0.168254       0.04                      0               0   \n",
       "4096506    0.238095       0.12                      0               0   \n",
       "4096507    0.238095       0.12                      0               0   \n",
       "\n",
       "         amenity_bench  CodigoZona  \n",
       "0                    0    r3845861  \n",
       "1                    0    r3845861  \n",
       "2                    0    r3845848  \n",
       "3                    0    r3845814  \n",
       "4                    0    r3845817  \n",
       "...                ...         ...  \n",
       "4096503              0    r3845828  \n",
       "4096504              0    r3845764  \n",
       "4096505              0    r3845817  \n",
       "4096506              0    r3845816  \n",
       "4096507              0    r3845816  \n",
       "\n",
       "[4096508 rows x 24 columns]"
      ]
     },
     "execution_count": 67,
     "metadata": {},
     "output_type": "execute_result"
    }
   ],
   "source": [
    "smart_inferidos"
   ]
  },
  {
   "cell_type": "code",
   "execution_count": 68,
   "id": "078478cf",
   "metadata": {},
   "outputs": [],
   "source": [
    "smart_inferidos.to_csv('base_total_DL.csv', index = False)"
   ]
  },
  {
   "cell_type": "markdown",
   "id": "4e1ec783",
   "metadata": {},
   "source": [
    "## Distribucion"
   ]
  },
  {
   "cell_type": "code",
   "execution_count": 14,
   "id": "6d4f2296",
   "metadata": {},
   "outputs": [
    {
     "data": {
      "image/png": "[encoded data removed]",
      "text/plain": [
       "<Figure size 1500x600 with 1 Axes>"
      ]
     },
     "metadata": {},
     "output_type": "display_data"
    }
   ],
   "source": [
    "plt.figure(figsize=(15, 6))\n",
    "frecuencias.head(50).plot(kind='bar')\n",
    "plt.xlabel('Parada Descenso Inferida (top 50)')\n",
    "plt.ylabel('Frecuencia')\n",
    "plt.title('Top 50 paradas más frecuentes')\n",
    "plt.tight_layout()\n",
    "plt.show()\n"
   ]
  },
  {
   "cell_type": "markdown",
   "id": "f5925933-85f2-4aa6-991d-ae03b9420892",
   "metadata": {},
   "source": [
    "6667171 entre 2 y 6 viajes por dia"
   ]
  },
  {
   "cell_type": "markdown",
   "id": "c8c09c35-e29c-4d03-981c-85e9e9c22748",
   "metadata": {},
   "source": [
    "740350 destinos para 2 registros por dia"
   ]
  },
  {
   "cell_type": "markdown",
   "id": "409a35c7-2b0a-40a2-9497-c40d4e98fbe1",
   "metadata": {},
   "source": [
    "478023 destinos para 3 registros por dia"
   ]
  },
  {
   "cell_type": "markdown",
   "id": "6cd0646d-e097-4bfe-80b2-708d4f346a67",
   "metadata": {},
   "source": [
    "868504 destinos para 4 registros por dia"
   ]
  },
  {
   "cell_type": "markdown",
   "id": "568976be-1b8c-474b-a759-1e9563753473",
   "metadata": {},
   "source": [
    "232245 para 5 registros por dia"
   ]
  },
  {
   "cell_type": "code",
   "execution_count": null,
   "id": "96bed564-ea91-4a35-9abc-b78008dea8d6",
   "metadata": {},
   "outputs": [],
   "source": []
  },
  {
   "cell_type": "markdown",
   "id": "0f13c1ca-9cfb-4da6-b1d0-c23ecce1d52f",
   "metadata": {},
   "source": [
    "Existen 201987 registros con dias consecutivos de 2395302 posibles retornos."
   ]
  },
  {
   "cell_type": "code",
   "execution_count": null,
   "id": "7fca9645-5404-40c2-9ef4-4ca244e0e268",
   "metadata": {},
   "outputs": [],
   "source": []
  },
  {
   "cell_type": "code",
   "execution_count": null,
   "id": "f3e01671-b645-49a6-80ab-9bdb76898b2b",
   "metadata": {},
   "outputs": [],
   "source": []
  },
  {
   "cell_type": "code",
   "execution_count": null,
   "id": "b83104a5-bed7-4293-91f4-d7b70b2d3a77",
   "metadata": {},
   "outputs": [],
   "source": []
  },
  {
   "cell_type": "code",
   "execution_count": 69,
   "id": "e87f139c",
   "metadata": {},
   "outputs": [
    {
     "name": "stdout",
     "output_type": "stream",
     "text": [
      "Se necesitan las 552 paradas más frecuentes para cubrir el 80% de los datos.\n"
     ]
    }
   ],
   "source": [
    "frecuencias = smart_inferidos['ParadaDescenso_Inferida'].value_counts()\n",
    "proporcion_acumulada = frecuencias.cumsum() / frecuencias.sum()\n",
    "num_paradas_80 = (proporcion_acumulada <= 0.80).sum()\n",
    "print(f\"Se necesitan las {num_paradas_80} paradas más frecuentes para cubrir el 80% de los datos.\")\n"
   ]
  },
  {
   "cell_type": "code",
   "execution_count": 70,
   "id": "822f0153",
   "metadata": {},
   "outputs": [
    {
     "name": "stdout",
     "output_type": "stream",
     "text": [
      "La última parada dentro del 80% es: 712\n",
      "Con una frecuencia de: 2178\n"
     ]
    }
   ],
   "source": [
    "# Paso 1: Obtener el total de registros y el umbral del 80%\n",
    "total_registros = len(smart_inferidos)\n",
    "umbral_80 = total_registros * 0.8\n",
    "\n",
    "# Paso 2: Calcular frecuencias y acumulado\n",
    "frecuencias = smart_inferidos['ParadaDescenso_Inferida'].value_counts()\n",
    "frecuencia_acumulada = frecuencias.cumsum()\n",
    "\n",
    "# Paso 3: Encontrar la última parada dentro del 80%\n",
    "paradas_80 = frecuencia_acumulada[frecuencia_acumulada <= umbral_80]\n",
    "ultima_parada = paradas_80.index[-1]\n",
    "frecuencia_ultima_parada = frecuencias[ultima_parada]\n",
    "\n",
    "print(f\"La última parada dentro del 80% es: {ultima_parada}\")\n",
    "print(f\"Con una frecuencia de: {frecuencia_ultima_parada}\")\n"
   ]
  },
  {
   "cell_type": "markdown",
   "id": "d44d2113",
   "metadata": {},
   "source": [
    "## Base de Puntos de Interes"
   ]
  },
  {
   "cell_type": "code",
   "execution_count": 45,
   "id": "52d4c7d4",
   "metadata": {},
   "outputs": [],
   "source": [
    "# 1. Cargar las capas\n",
    "parroquias = gpd.read_file(\"parroquias_intersecado_pois.gpkg\")\n",
    "pois = gpd.read_file(\"POIs_fusionados.gpkg\")\n",
    "paradas = gpd.read_file(\"paradas_geometria.gpkg\")"
   ]
  },
  {
   "cell_type": "code",
   "execution_count": 4,
   "id": "41358c7a",
   "metadata": {},
   "outputs": [],
   "source": [
    "# 3. Join espacial: POIs dentro de parroquias\n",
    "pois_en_parroquias = gpd.sjoin(pois, parroquias, how=\"inner\", predicate=\"within\")"
   ]
  },
  {
   "cell_type": "code",
   "execution_count": 14,
   "id": "fc700a3e",
   "metadata": {},
   "outputs": [],
   "source": [
    "# 4. Conteo total de POIs por parroquia (usando 'full_id_right')\n",
    "conteo_total = pois_en_parroquias.groupby(\"full_id_right\").size().reset_index(name='total_pois')\n",
    "\n",
    "# 5. Conteo por tipo de POI (columna 'layer')\n",
    "conteo_por_tipo = pois_en_parroquias.groupby([\"full_id_right\", \"layer\"]).size().reset_index(name='cantidad')\n",
    "\n",
    "# 6. Renombrar para poder unir con parroquias\n",
    "conteo_total = conteo_total.rename(columns={\"full_id_right\": \"full_id\"})\n",
    "conteo_por_tipo = conteo_por_tipo.rename(columns={\"full_id_right\": \"full_id\"})\n"
   ]
  },
  {
   "cell_type": "code",
   "execution_count": 32,
   "id": "c7c55ec3",
   "metadata": {},
   "outputs": [],
   "source": [
    "paradas = paradas.drop(columns=['full_id', 'osm_id', 'wikipedia'])\n"
   ]
  },
  {
   "cell_type": "code",
   "execution_count": 46,
   "id": "b49e5dad",
   "metadata": {},
   "outputs": [],
   "source": [
    "# 2. Excluir las parroquias grandes\n",
    "ids_a_excluir = [\"r107724\", \"r107886\", \"r3693133\"]\n",
    "parroquias_filtradas = parroquias[~parroquias[\"full_id\"].isin(ids_a_excluir)]\n",
    "\n",
    "# 4. Join espacial: obtener el full_id de la parroquia correspondiente a cada parada\n",
    "paradas_con_parroquia = gpd.sjoin(paradas, parroquias_filtradas[[\"full_id\", \"geometry\"]], how=\"left\", predicate=\"within\")\n",
    "\n",
    "# 5. Limpiar columnas si quieres\n",
    "paradas_con_parroquia = paradas_con_parroquia.drop(columns=[\"index_right\"])"
   ]
  },
  {
   "cell_type": "code",
   "execution_count": 51,
   "id": "e7bc8f96",
   "metadata": {},
   "outputs": [],
   "source": [
    "paradas_enriquecidas = paradas_con_parroquia.merge(conteo_total, on=\"full_id\", how=\"left\")"
   ]
  },
  {
   "cell_type": "code",
   "execution_count": 55,
   "id": "f44180c6",
   "metadata": {},
   "outputs": [],
   "source": [
    "recuento_por_categoria = pois['layer'].value_counts().reset_index()\n",
    "recuento_por_categoria.columns = ['layer', 'cantidad']\n"
   ]
  },
  {
   "cell_type": "code",
   "execution_count": 58,
   "id": "90f64648",
   "metadata": {},
   "outputs": [],
   "source": [
    "conteo_pivot = conteo_por_tipo.pivot_table(\n",
    "    index='full_id',\n",
    "    columns='layer',\n",
    "    values='cantidad',\n",
    "    fill_value=0\n",
    ").reset_index()\n"
   ]
  },
  {
   "cell_type": "code",
   "execution_count": 60,
   "id": "773fb99e",
   "metadata": {},
   "outputs": [],
   "source": [
    "# Unir total_pois\n",
    "paradas_enriquecidas = paradas_con_parroquia.merge(conteo_total, on='full_id', how='left')\n",
    "\n",
    "# Unir conteo por tipo (columnas por categoría)\n",
    "paradas_enriquecidas = paradas_enriquecidas.merge(conteo_pivot, on='full_id', how='left')\n"
   ]
  },
  {
   "cell_type": "code",
   "execution_count": 63,
   "id": "6b75f0cf",
   "metadata": {},
   "outputs": [],
   "source": [
    "paradas_enriquecidas.to_csv('POI_DATA/paradas_enriquecidas.csv', index = False)"
   ]
  },
  {
   "cell_type": "code",
   "execution_count": 73,
   "id": "c4f306ca",
   "metadata": {},
   "outputs": [
    {
     "data": {
      "image/png": "[encoded data removed]",
      "text/plain": [
       "<Figure size 1200x500 with 1 Axes>"
      ]
     },
     "metadata": {},
     "output_type": "display_data"
    }
   ],
   "source": [
    "# Agrupar y contar paradas por parroquia\n",
    "distribucion_paradas = (\n",
    "    paradas_con_parroquia.groupby('full_id')['ID-PARADA']\n",
    "    .count()\n",
    "    .reset_index()\n",
    "    .rename(columns={'ID-PARADA': 'n_paradas'})\n",
    ")\n",
    "\n",
    "# Ordenar por cantidad de paradas (opcional, para mejor visualización)\n",
    "distribucion_paradas = distribucion_paradas.sort_values('n_paradas', ascending=False)\n",
    "\n",
    "# Gráfico de barras\n",
    "plt.figure(figsize=(12, 5))\n",
    "plt.bar(distribucion_paradas['full_id'], distribucion_paradas['n_paradas'], color='skyblue')\n",
    "plt.xlabel('Parroquia (full_id)')\n",
    "plt.ylabel('Número de paradas')\n",
    "plt.title('Distribución de paradas por parroquia')\n",
    "plt.xticks(rotation=45, ha='right')\n",
    "plt.tight_layout()\n",
    "plt.show()"
   ]
  },
  {
   "cell_type": "code",
   "execution_count": 77,
   "id": "dcf3c084",
   "metadata": {},
   "outputs": [
    {
     "name": "stdout",
     "output_type": "stream",
     "text": [
      "Razón clase mayoritaria/minoritaria: 3.57\n"
     ]
    }
   ],
   "source": [
    "# Recuento de paradas por parroquia\n",
    "clase_counts = paradas_con_parroquia['full_id'].value_counts()\n",
    "\n",
    "# Proporción relativa\n",
    "clase_relativa = clase_counts / clase_counts.sum()\n",
    "\n",
    "# Ver la relación entre clases\n",
    "ratio = clase_counts.max() / clase_counts.mean()\n",
    "print(f\"Razón clase mayoritaria/minoritaria: {ratio:.2f}\")\n"
   ]
  },
  {
   "cell_type": "code",
   "execution_count": 76,
   "id": "71a74742",
   "metadata": {},
   "outputs": [
    {
     "data": {
      "text/plain": [
       "63.81578947368421"
      ]
     },
     "execution_count": 76,
     "metadata": {},
     "output_type": "execute_result"
    }
   ],
   "source": [
    "clase_counts.mean()"
   ]
  },
  {
   "cell_type": "code",
   "execution_count": null,
   "id": "2e218a9c",
   "metadata": {},
   "outputs": [],
   "source": []
  },
  {
   "cell_type": "code",
   "execution_count": null,
   "id": "e70ed7e9",
   "metadata": {},
   "outputs": [],
   "source": []
  },
  {
   "cell_type": "code",
   "execution_count": null,
   "id": "29238ef5",
   "metadata": {},
   "outputs": [],
   "source": []
  },
  {
   "cell_type": "code",
   "execution_count": null,
   "id": "d378a258",
   "metadata": {},
   "outputs": [],
   "source": []
  }
 ],
 "metadata": {
  "kernelspec": {
   "display_name": "Python 3 (ipykernel)",
   "language": "python",
   "name": "python3"
  },
  "language_info": {
   "codemirror_mode": {
    "name": "ipython",
    "version": 3
   },
   "file_extension": ".py",
   "mimetype": "text/x-python",
   "name": "python",
   "nbconvert_exporter": "python",
   "pygments_lexer": "ipython3",
   "version": "3.12.7"
  }
 },
 "nbformat": 4,
 "nbformat_minor": 5
}
